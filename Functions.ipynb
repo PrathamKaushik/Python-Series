{
  "nbformat": 4,
  "nbformat_minor": 0,
  "metadata": {
    "colab": {
      "provenance": []
    },
    "kernelspec": {
      "name": "python3",
      "display_name": "Python 3"
    },
    "language_info": {
      "name": "python"
    }
  },
  "cells": [
    {
      "cell_type": "code",
      "execution_count": null,
      "metadata": {
        "id": "xsQJiZPH_oKO"
      },
      "outputs": [],
      "source": []
    },
    {
      "cell_type": "markdown",
      "source": [
        "## Only Unique items"
      ],
      "metadata": {
        "id": "tOpuRNCfAADK"
      }
    },
    {
      "cell_type": "code",
      "source": [
        "def onlyUnique(lis):\n",
        "  ans=[]\n",
        "  for x in lis:\n",
        "    if x not in ans:\n",
        "      ans.append(x)\n",
        "  \n",
        "  return ans\n",
        "\n",
        "print(onlyUnique([1,2,3,3,3,3,4,5]))"
      ],
      "metadata": {
        "colab": {
          "base_uri": "https://localhost:8080/"
        },
        "id": "DVA-NA4rAEb5",
        "outputId": "9b6386fe-089e-497a-ceaa-7606149bc004"
      },
      "execution_count": 2,
      "outputs": [
        {
          "output_type": "stream",
          "name": "stdout",
          "text": [
            "[1, 2, 3, 4, 5]\n"
          ]
        }
      ]
    },
    {
      "cell_type": "markdown",
      "source": [
        "## Sort Hyphen separated words"
      ],
      "metadata": {
        "id": "kZ_y6_VIAf-I"
      }
    },
    {
      "cell_type": "code",
      "source": [
        "def sortWords(w):\n",
        "  lis=w.split('-')\n",
        "  lis.sort()\n",
        "  return '-'.join(lis)\n",
        "\n",
        "print(sortWords(\"green-red-yellow-black-white\"))"
      ],
      "metadata": {
        "colab": {
          "base_uri": "https://localhost:8080/"
        },
        "id": "0ZmvCgLYA52s",
        "outputId": "8f7bb857-59e2-4e0c-acd9-50725d70d376"
      },
      "execution_count": 1,
      "outputs": [
        {
          "output_type": "stream",
          "name": "stdout",
          "text": [
            "black-green-red-white-yellow\n"
          ]
        }
      ]
    },
    {
      "cell_type": "code",
      "source": [],
      "metadata": {
        "id": "_xMUADWTBn18"
      },
      "execution_count": null,
      "outputs": []
    },
    {
      "cell_type": "markdown",
      "source": [
        "## Count uppercase & lowercase"
      ],
      "metadata": {
        "id": "Pf2XUz97B2mD"
      }
    },
    {
      "cell_type": "code",
      "source": [
        "def countUpperCaseAndLowerCase(s):\n",
        "  x=y=0\n",
        "  for i in s:\n",
        "    if i>='A' and i<='Z':\n",
        "      x=x+1\n",
        "    else:\n",
        "      y=y+1\n",
        "  return x,y\n",
        "\n",
        "print(countUpperCaseAndLowerCase(\"CampusX is an Online Mentorship Program fOr EnginEering studentS\"))"
      ],
      "metadata": {
        "colab": {
          "base_uri": "https://localhost:8080/"
        },
        "id": "9b9qbHkkCCs3",
        "outputId": "d8a0ef77-e72e-410e-f3ed-686f38774994"
      },
      "execution_count": 5,
      "outputs": [
        {
          "output_type": "stream",
          "name": "stdout",
          "text": [
            "(9, 55)\n"
          ]
        }
      ]
    },
    {
      "cell_type": "markdown",
      "source": [
        "## Reduce a 2d to 1d list"
      ],
      "metadata": {
        "id": "JrkwRWhHC_AM"
      }
    },
    {
      "cell_type": "code",
      "source": [
        "import functools \n",
        "lis=[[1,2],[3,4,5],[6,7,8,9]]\n",
        "functools.reduce(lambda x,y: x+y,lis)"
      ],
      "metadata": {
        "colab": {
          "base_uri": "https://localhost:8080/"
        },
        "id": "3JVr14LSEX0w",
        "outputId": "2e04edf9-04ad-4773-e00f-10cfebcab2d3"
      },
      "execution_count": 4,
      "outputs": [
        {
          "output_type": "execute_result",
          "data": {
            "text/plain": [
              "[1, 2, 3, 4, 5, 6, 7, 8, 9]"
            ]
          },
          "metadata": {},
          "execution_count": 4
        }
      ]
    },
    {
      "cell_type": "code",
      "source": [],
      "metadata": {
        "id": "lbUMaXXvFEwq"
      },
      "execution_count": null,
      "outputs": []
    },
    {
      "cell_type": "markdown",
      "source": [
        "## filter vowels from a string "
      ],
      "metadata": {
        "id": "gRPJkxzRGQN6"
      }
    },
    {
      "cell_type": "code",
      "source": [
        "s=\"Pratham Kaushik\"\n",
        "list(filter(lambda x: x in ['a','e','i','o','u'],list(s.lower())))"
      ],
      "metadata": {
        "colab": {
          "base_uri": "https://localhost:8080/"
        },
        "id": "D-uMG7NZGVyw",
        "outputId": "80abee44-ea88-4e69-da8b-a13944886521"
      },
      "execution_count": 8,
      "outputs": [
        {
          "output_type": "execute_result",
          "data": {
            "text/plain": [
              "['a', 'a', 'a', 'u', 'i']"
            ]
          },
          "metadata": {},
          "execution_count": 8
        }
      ]
    },
    {
      "cell_type": "code",
      "source": [],
      "metadata": {
        "id": "GslYDRrKGa7t"
      },
      "execution_count": null,
      "outputs": []
    },
    {
      "cell_type": "markdown",
      "source": [
        "## Map numbers to power of their indices"
      ],
      "metadata": {
        "id": "1pmYQ-mUHk6A"
      }
    },
    {
      "cell_type": "code",
      "source": [
        "lis =[1,2,3,4,5,6]\n",
        "list(map(lambda x: x**lis.index(x),lis))\n",
        "\n"
      ],
      "metadata": {
        "colab": {
          "base_uri": "https://localhost:8080/"
        },
        "id": "TEHDJbx3HsHZ",
        "outputId": "ad9debb4-82db-4eb5-f6e7-d8e88d7674f7"
      },
      "execution_count": 10,
      "outputs": [
        {
          "output_type": "execute_result",
          "data": {
            "text/plain": [
              "[1, 2, 9, 64, 625, 7776]"
            ]
          },
          "metadata": {},
          "execution_count": 10
        }
      ]
    },
    {
      "cell_type": "code",
      "source": [],
      "metadata": {
        "id": "nkMlvMYcH50P"
      },
      "execution_count": 12,
      "outputs": []
    },
    {
      "cell_type": "markdown",
      "source": [
        "## Word with max occurence"
      ],
      "metadata": {
        "id": "XnlHlN1oLikP"
      }
    },
    {
      "cell_type": "code",
      "source": [
        "def word(s):\n",
        "  lis=s.split(' ')\n",
        "  maxi,w=0,\"\"\n",
        "  for x in lis:\n",
        "    if lis.count(x)>maxi:\n",
        "      maxi=lis.count(x)\n",
        "      w=x\n",
        "  print(w,'->',maxi)\n",
        "\n",
        "word(\"hello how are you i am fine thank you\")"
      ],
      "metadata": {
        "colab": {
          "base_uri": "https://localhost:8080/"
        },
        "id": "meGjPhRhJ3o_",
        "outputId": "71b4de83-29b2-4d08-8a1b-6a826dec4fbd"
      },
      "execution_count": 14,
      "outputs": [
        {
          "output_type": "stream",
          "name": "stdout",
          "text": [
            "you -> 2\n"
          ]
        }
      ]
    },
    {
      "cell_type": "code",
      "source": [],
      "metadata": {
        "id": "EZj-XqsQK4Zl"
      },
      "execution_count": null,
      "outputs": []
    },
    {
      "cell_type": "markdown",
      "source": [
        "## Bag of Words "
      ],
      "metadata": {
        "id": "z1Hj9asFOkne"
      }
    },
    {
      "cell_type": "code",
      "source": [
        "lis=[\"Mary\",\"likes\",\"to\",\"play\",\"football\",\"likes\"]\n",
        "dic={}\n",
        "\n",
        "for x in lis:\n",
        "  dic[x]=lis.count(x)\n",
        "\n",
        "dic"
      ],
      "metadata": {
        "colab": {
          "base_uri": "https://localhost:8080/"
        },
        "id": "zBmbH0z9Om0M",
        "outputId": "1266fa81-23c3-4714-9a3e-51e6b908186f"
      },
      "execution_count": 15,
      "outputs": [
        {
          "output_type": "execute_result",
          "data": {
            "text/plain": [
              "{'Mary': 1, 'likes': 2, 'to': 1, 'play': 1, 'football': 1}"
            ]
          },
          "metadata": {},
          "execution_count": 15
        }
      ]
    },
    {
      "cell_type": "code",
      "source": [],
      "metadata": {
        "id": "w-N4uvMgPFq2"
      },
      "execution_count": null,
      "outputs": []
    }
  ]
}