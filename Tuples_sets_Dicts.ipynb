{
  "nbformat": 4,
  "nbformat_minor": 0,
  "metadata": {
    "colab": {
      "provenance": []
    },
    "kernelspec": {
      "name": "python3",
      "display_name": "Python 3"
    },
    "language_info": {
      "name": "python"
    }
  },
  "cells": [
    {
      "cell_type": "code",
      "execution_count": null,
      "metadata": {
        "id": "eeTtxCbjp19F"
      },
      "outputs": [],
      "source": []
    },
    {
      "cell_type": "markdown",
      "source": [
        "## Join Tuples if similar initial element"
      ],
      "metadata": {
        "id": "CM1W22Ucp768"
      }
    },
    {
      "cell_type": "code",
      "source": [
        "test_list=[(5,6),(5,7),(5,8),(6,10),(7,13)]\n",
        "\n",
        "ans=[]\n",
        "i=0\n",
        "while i<len(test_list):\n",
        "  x=(test_list[i][0],)\n",
        "  while i<len(test_list) and test_list[i][0]==x[0]:\n",
        "    x=x+(test_list[i][1],)\n",
        "    i=i+1\n",
        "  ans.append(x)\n",
        "\n",
        "ans\n"
      ],
      "metadata": {
        "colab": {
          "base_uri": "https://localhost:8080/"
        },
        "id": "QbvyKw84qCHs",
        "outputId": "de4009a7-1e1b-491f-e91c-9949d7d6fe28"
      },
      "execution_count": 1,
      "outputs": [
        {
          "output_type": "execute_result",
          "data": {
            "text/plain": [
              "[(5, 6, 7, 8), (6, 10), (7, 13)]"
            ]
          },
          "metadata": {},
          "execution_count": 1
        }
      ]
    },
    {
      "cell_type": "code",
      "source": [],
      "metadata": {
        "id": "wxWZmA0wqNwZ"
      },
      "execution_count": null,
      "outputs": []
    },
    {
      "cell_type": "markdown",
      "source": [
        "## Multiply Adjacent elements(both side) and take sum of right & left side multiplication result"
      ],
      "metadata": {
        "id": "2syH1tf6slWF"
      }
    },
    {
      "cell_type": "code",
      "source": [
        "tup=(1,5,7,8,10)\n",
        "\n",
        "ans=()\n",
        "\n",
        "for i in range(len(tup)):\n",
        "  x=(0 if (i-1)<0 else tup[i-1])*tup[i] + tup[i]*(tup[i+1] if (i+1)<len(tup) else 0)\n",
        "  ans=ans+(x,)\n",
        "\n",
        "ans\n"
      ],
      "metadata": {
        "colab": {
          "base_uri": "https://localhost:8080/"
        },
        "id": "tZi-vWBos0Fk",
        "outputId": "8d84aca7-63c4-4070-e7f8-ea8a9ee236ac"
      },
      "execution_count": 2,
      "outputs": [
        {
          "output_type": "execute_result",
          "data": {
            "text/plain": [
              "(5, 40, 91, 136, 80)"
            ]
          },
          "metadata": {},
          "execution_count": 2
        }
      ]
    },
    {
      "cell_type": "markdown",
      "source": [
        "## Check if tuples are same"
      ],
      "metadata": {
        "id": "2xjStfj_uKn_"
      }
    },
    {
      "cell_type": "code",
      "source": [
        "t1=(1,2,3,0)\n",
        "t2=(0,1,2,3)\n",
        "\n",
        "t1==t2"
      ],
      "metadata": {
        "colab": {
          "base_uri": "https://localhost:8080/"
        },
        "id": "sgBFAI3wuQMB",
        "outputId": "faff8b3b-754c-470f-8771-8ed60dcc3066"
      },
      "execution_count": 3,
      "outputs": [
        {
          "output_type": "execute_result",
          "data": {
            "text/plain": [
              "False"
            ]
          },
          "metadata": {},
          "execution_count": 3
        }
      ]
    },
    {
      "cell_type": "markdown",
      "source": [
        "## Count no of tuples, list and sets from a list"
      ],
      "metadata": {
        "id": "aFFfIdzzuXtL"
      }
    },
    {
      "cell_type": "code",
      "source": [
        "lis=[{'hi','bye'},{'Geeks','forGeeks'},('a','b'),['hi','bye'],['a','b']]\n",
        "\n",
        "lists=tuples=sets=0\n",
        "\n",
        "for x in lis:\n",
        "  if type(x) is list:\n",
        "    lists=lists+1\n",
        "  elif type(x) is tuple:\n",
        "    tuples=tuples+1\n",
        "  elif type(x) is set:\n",
        "    sets=sets+1\n",
        "\n",
        "print('Lists-',lists)\n",
        "print('Tuples-',tuples)\n",
        "print('Sets-',sets)"
      ],
      "metadata": {
        "colab": {
          "base_uri": "https://localhost:8080/"
        },
        "id": "6r2m6m-Kuft1",
        "outputId": "01ee7e03-6140-4d46-a4b5-53e50ea0f99a"
      },
      "execution_count": 6,
      "outputs": [
        {
          "output_type": "stream",
          "name": "stdout",
          "text": [
            "Lists- 2\n",
            "Tuples- 1\n",
            "Sets- 2\n"
          ]
        }
      ]
    },
    {
      "cell_type": "markdown",
      "source": [
        "## Shortlist Students for a Job"
      ],
      "metadata": {
        "id": "HUdUfwjyvhS3"
      }
    },
    {
      "cell_type": "code",
      "source": [
        "rec=int(input(\"Enter no of records\"))\n",
        "lis=[]\n",
        "\n",
        "for i in range(rec):\n",
        "  print(\"Enter Details of student-{}\".format(i+1))\n",
        "  name=input(\"Enter Student Name\")\n",
        "  edu=input(\"Enter Higher Education\")\n",
        "  skill=input(\"Enter Primary Skill\")\n",
        "  grad_yr=input(\"Enter Year of Graduation\")\n",
        "  lis.append((name,edu,skill,grad_yr))\n",
        "\n",
        "print(\"Enter Job Role Requirement\")\n",
        "req_skill=input(\"Enter Skill\")\n",
        "req_edu=input(\"Enter Higher Education\")\n",
        "req_grad_yr=input(\"Enter Year of Graduation\")\n",
        "\n",
        "f=0\n",
        "for x in lis:\n",
        "  if req_skill in x and req_edu in x and req_grad_yr in x:\n",
        "    f=1\n",
        "    print(x)\n",
        "\n",
        "if f==0:\n",
        "  print(\"No Such Student\")"
      ],
      "metadata": {
        "colab": {
          "base_uri": "https://localhost:8080/"
        },
        "id": "FHaVu2xNvmj1",
        "outputId": "e61642b8-785f-4d00-b21e-00fe2a3e8d0a"
      },
      "execution_count": 7,
      "outputs": [
        {
          "output_type": "stream",
          "name": "stdout",
          "text": [
            "Enter no of records2\n",
            "Enter Details of student-1\n",
            "Enter Student NameManohar\n",
            "Enter Higher EducationB.Tech\n",
            "Enter Primary SkillPython\n",
            "Enter Year of Graduation2022\n",
            "Enter Details of student-2\n",
            "Enter Student NamePonian\n",
            "Enter Higher EducationB.Sc\n",
            "Enter Primary SkillC++\n",
            "Enter Year of Graduation2020\n",
            "Enter Job Role Requirement\n",
            "Enter SkillPython\n",
            "Enter Higher EducationB.Tech\n",
            "Enter Year of Graduation2022\n",
            "('Manohar', 'B.Tech', 'Python', '2022')\n"
          ]
        }
      ]
    },
    {
      "cell_type": "markdown",
      "source": [
        "## Common Elements from 3 Sets"
      ],
      "metadata": {
        "id": "_1CZB_3_xxLx"
      }
    },
    {
      "cell_type": "code",
      "source": [
        "ar1={1,5,10,20,40,80}\n",
        "ar2={6,7,20,80,100}\n",
        "ar3={3,4,15,20,30,70,80,120}\n",
        "\n",
        "ar3.intersection(ar1.intersection(ar2))"
      ],
      "metadata": {
        "colab": {
          "base_uri": "https://localhost:8080/"
        },
        "id": "GVhYMRmrx3lm",
        "outputId": "20e243e6-bbe2-468d-af07-320017b1466c"
      },
      "execution_count": 8,
      "outputs": [
        {
          "output_type": "execute_result",
          "data": {
            "text/plain": [
              "{20, 80}"
            ]
          },
          "metadata": {},
          "execution_count": 8
        }
      ]
    },
    {
      "cell_type": "markdown",
      "source": [
        "## Count Unique no of vowels"
      ],
      "metadata": {
        "id": "NGuw8RAyycQS"
      }
    },
    {
      "cell_type": "code",
      "source": [
        "Str1=\"hands-on data science mentorship progrAm with live classes at affordable fee only on CampusX\"\n",
        "\n",
        "s=set()\n",
        "for x in Str1:\n",
        "  if x in ['a','A','e','E','i','I','o','O','u','U']:\n",
        "    s.add(x)\n",
        "\n",
        "len(s)"
      ],
      "metadata": {
        "colab": {
          "base_uri": "https://localhost:8080/"
        },
        "id": "saMdvtGTyswE",
        "outputId": "4e6b4244-a612-44f4-e1a1-ccea7c437dc4"
      },
      "execution_count": 9,
      "outputs": [
        {
          "output_type": "execute_result",
          "data": {
            "text/plain": [
              "6"
            ]
          },
          "metadata": {},
          "execution_count": 9
        }
      ]
    },
    {
      "cell_type": "markdown",
      "source": [
        "## Check if a string is binary or not"
      ],
      "metadata": {
        "id": "5VltkA68zpDI"
      }
    },
    {
      "cell_type": "code",
      "source": [
        "str1='1222211'\n",
        "str2='CampusX'\n",
        "\n",
        "s1=set()\n",
        "s2=set()\n",
        "\n",
        "for x in str1:\n",
        "  s1.add(x)\n",
        "\n",
        "for x in str2:\n",
        "  s2.add(x)\n",
        "\n",
        "print(len(s1)==2,len(s2)==2)"
      ],
      "metadata": {
        "colab": {
          "base_uri": "https://localhost:8080/"
        },
        "id": "CUov8GQlz2mE",
        "outputId": "11760e4d-dc5e-4e68-b0fe-a445c731bd42"
      },
      "execution_count": 10,
      "outputs": [
        {
          "output_type": "stream",
          "name": "stdout",
          "text": [
            "True False\n"
          ]
        }
      ]
    },
    {
      "cell_type": "markdown",
      "source": [
        "## Union of N-Arrays"
      ],
      "metadata": {
        "id": "yox7QcOt0bKZ"
      }
    },
    {
      "cell_type": "code",
      "source": [
        "lis=[[1,2,2,4,3,6],\n",
        "     [5,1,3,4],\n",
        "     [9,5,7,1],\n",
        "     [2,4,1,3]]\n",
        "\n",
        "s=set()\n",
        "\n",
        "for x in lis:\n",
        "  s.update(x)\n",
        "\n",
        "s"
      ],
      "metadata": {
        "colab": {
          "base_uri": "https://localhost:8080/"
        },
        "id": "WP5iZpOp0jOv",
        "outputId": "8f2ff099-421d-44c8-ace2-559bb509c3a2"
      },
      "execution_count": 11,
      "outputs": [
        {
          "output_type": "execute_result",
          "data": {
            "text/plain": [
              "{1, 2, 3, 4, 5, 6, 7, 9}"
            ]
          },
          "metadata": {},
          "execution_count": 11
        }
      ]
    },
    {
      "cell_type": "markdown",
      "source": [
        "## Intersection of two sets using Comprehension"
      ],
      "metadata": {
        "id": "GGejw_UP1CGm"
      }
    },
    {
      "cell_type": "code",
      "source": [
        "set1={15,9,10,56,23,78,5,4,9}\n",
        "set2={9,4,5,36,47,26,10,45,87}\n",
        "\n",
        "{x for x in set1 if x in set2}"
      ],
      "metadata": {
        "colab": {
          "base_uri": "https://localhost:8080/"
        },
        "id": "sRV8_t4O1WHd",
        "outputId": "a5841998-2a3e-46be-f627-5618e1a3f1e3"
      },
      "execution_count": 12,
      "outputs": [
        {
          "output_type": "execute_result",
          "data": {
            "text/plain": [
              "{4, 5, 9, 10}"
            ]
          },
          "metadata": {},
          "execution_count": 12
        }
      ]
    },
    {
      "cell_type": "markdown",
      "source": [
        "## Key with maximum unique values"
      ],
      "metadata": {
        "id": "6BvBqa9g11jW"
      }
    },
    {
      "cell_type": "code",
      "source": [
        "dic={\"CampusX\":[5,7,9,4,0], \"is\":[6,7,4,3,3], \"Best\":[9,9,6,5,5]}\n",
        "\n",
        "ans=()\n",
        "maxi=0\n",
        "for x in dic.items():\n",
        "  if len(set(x[1]))>maxi:\n",
        "    maxi=len(set(x[1]))\n",
        "    ans=x\n",
        "\n",
        "ans[0]"
      ],
      "metadata": {
        "colab": {
          "base_uri": "https://localhost:8080/",
          "height": 36
        },
        "id": "g1zi7J5w2I2c",
        "outputId": "ead09b43-0ecd-4406-d17d-5ee26be294e1"
      },
      "execution_count": 13,
      "outputs": [
        {
          "output_type": "execute_result",
          "data": {
            "text/plain": [
              "'CampusX'"
            ],
            "application/vnd.google.colaboratory.intrinsic+json": {
              "type": "string"
            }
          },
          "metadata": {},
          "execution_count": 13
        }
      ]
    },
    {
      "cell_type": "markdown",
      "source": [
        "## Replace words from a dict usin a lookup dict"
      ],
      "metadata": {
        "id": "as3TTHQd3Ft2"
      }
    },
    {
      "cell_type": "code",
      "source": [
        "str1='CampusX best for DS students.'\n",
        "lis=str1.split(' ')\n",
        "lookup={\"best\":\"is the best channel\",\"DS\":\"Data-Science\"}\n",
        "\n",
        "for i in range(len(lis)):\n",
        "  if lis[i] in lookup.keys():\n",
        "    lis[i]=lookup[lis[i]]\n",
        "\n",
        "str1=' '.join(lis)\n",
        "str1"
      ],
      "metadata": {
        "colab": {
          "base_uri": "https://localhost:8080/",
          "height": 36
        },
        "id": "uxlcoQfN3XuS",
        "outputId": "fa34f75e-1f53-463a-a51a-a177373a9e5d"
      },
      "execution_count": 15,
      "outputs": [
        {
          "output_type": "execute_result",
          "data": {
            "text/plain": [
              "'CampusX is the best channel for Data-Science students.'"
            ],
            "application/vnd.google.colaboratory.intrinsic+json": {
              "type": "string"
            }
          },
          "metadata": {},
          "execution_count": 15
        }
      ]
    },
    {
      "cell_type": "markdown",
      "source": [
        "## Sort a Dictionary"
      ],
      "metadata": {
        "id": "yJoplJO34YDE"
      }
    },
    {
      "cell_type": "code",
      "source": [
        "dic={'c':[3], 'b':[12,10], 'a':[19,4]}\n",
        "\n",
        "lis=[]\n",
        "for x in dic.keys():\n",
        "  lis.append(x)\n",
        "  dic[x].sort()\n",
        "\n",
        "lis.sort()\n",
        "res={}\n",
        "for x in lis:\n",
        "  key=x \n",
        "  val=dic[x]\n",
        "  res[key]=val\n",
        "\n",
        "res\n",
        "\n"
      ],
      "metadata": {
        "colab": {
          "base_uri": "https://localhost:8080/"
        },
        "id": "WfJ8AUb94wiL",
        "outputId": "c0da95fa-266d-41bf-a0e0-d25d1d4e5672"
      },
      "execution_count": 21,
      "outputs": [
        {
          "output_type": "execute_result",
          "data": {
            "text/plain": [
              "{'a': [4, 19], 'b': [10, 12], 'c': [3]}"
            ]
          },
          "metadata": {},
          "execution_count": 21
        }
      ]
    },
    {
      "cell_type": "markdown",
      "source": [
        "## Convert a list of tuples into a Dictionary"
      ],
      "metadata": {
        "id": "GRiUH09p5w6w"
      }
    },
    {
      "cell_type": "code",
      "source": [
        "lis=[('akash',10), ('gaurav',12), ('anand',14), ('suraj',20), ('akhil',25), ('ashish',30)]\n",
        "\n",
        "dic={}\n",
        "for x in lis:\n",
        "  dic[x[0]]=x[1]\n",
        "\n",
        "dic"
      ],
      "metadata": {
        "colab": {
          "base_uri": "https://localhost:8080/"
        },
        "id": "2gqTaUwb6AG0",
        "outputId": "f5037b9f-a0f2-49de-d1b3-d0601b400c6f"
      },
      "execution_count": 23,
      "outputs": [
        {
          "output_type": "execute_result",
          "data": {
            "text/plain": [
              "{'akash': 10,\n",
              " 'gaurav': 12,\n",
              " 'anand': 14,\n",
              " 'suraj': 20,\n",
              " 'akhil': 25,\n",
              " 'ashish': 30}"
            ]
          },
          "metadata": {},
          "execution_count": 23
        }
      ]
    },
    {
      "cell_type": "markdown",
      "source": [
        "## Convert a list into a list of dicts"
      ],
      "metadata": {
        "id": "nmxmf2BL6d37"
      }
    },
    {
      "cell_type": "code",
      "source": [
        "test=[\"DataScience\",3,\"is\",8]\n",
        "key_list=[\"name\",\"id\"]\n",
        "\n",
        "ans=[]\n",
        "i=0\n",
        "while i<len(test):\n",
        "  dic={}\n",
        "  for j in range(2):\n",
        "    key=key_list[i%2]\n",
        "    val=test[i]\n",
        "    dic[key]=val\n",
        "    i=i+1\n",
        "  ans.append(dic)\n",
        "\n",
        "ans"
      ],
      "metadata": {
        "colab": {
          "base_uri": "https://localhost:8080/"
        },
        "id": "QWPSf2Yo6xTQ",
        "outputId": "11c9990f-6730-402e-b1fa-c856620cee70"
      },
      "execution_count": 24,
      "outputs": [
        {
          "output_type": "execute_result",
          "data": {
            "text/plain": [
              "[{'name': 'DataScience', 'id': 3}, {'name': 'is', 'id': 8}]"
            ]
          },
          "metadata": {},
          "execution_count": 24
        }
      ]
    },
    {
      "cell_type": "code",
      "source": [],
      "metadata": {
        "id": "PnEGNOyjAJJ3"
      },
      "execution_count": null,
      "outputs": []
    }
  ]
}