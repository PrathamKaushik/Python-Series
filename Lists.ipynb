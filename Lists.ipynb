{
  "nbformat": 4,
  "nbformat_minor": 0,
  "metadata": {
    "colab": {
      "provenance": []
    },
    "kernelspec": {
      "name": "python3",
      "display_name": "Python 3"
    },
    "language_info": {
      "name": "python"
    }
  },
  "cells": [
    {
      "cell_type": "code",
      "execution_count": null,
      "metadata": {
        "id": "jRcnUfP3ZR3-"
      },
      "outputs": [],
      "source": []
    },
    {
      "cell_type": "markdown",
      "source": [
        "## Combine two lists, indexwise"
      ],
      "metadata": {
        "id": "cmA8mmbNZoJl"
      }
    },
    {
      "cell_type": "code",
      "source": [
        "list1=[\"M\",\"na\",\"i\",\"Kh\"]\n",
        "list2=[\"y\",\"me\",\"s\",\"an\"] \n",
        "# list3=[[\"M\",\"y\"],[\"na\",\"me\"],[\"i\",\"s\"],[\"Kh\",\"an\"]]"
      ],
      "metadata": {
        "id": "apIUiAzHZwzs"
      },
      "execution_count": 1,
      "outputs": []
    },
    {
      "cell_type": "code",
      "source": [
        "list3=[[i,j] for i in list1 for j in list2 if list1.index(i)==list2.index(j)]\n",
        "list3"
      ],
      "metadata": {
        "colab": {
          "base_uri": "https://localhost:8080/"
        },
        "id": "GjC3NVemZ_O2",
        "outputId": "e857f2dc-562b-438c-8923-af2e74d16a7c"
      },
      "execution_count": 3,
      "outputs": [
        {
          "output_type": "execute_result",
          "data": {
            "text/plain": [
              "[['M', 'y'], ['na', 'me'], ['i', 's'], ['Kh', 'an']]"
            ]
          },
          "metadata": {},
          "execution_count": 3
        }
      ]
    },
    {
      "cell_type": "code",
      "source": [],
      "metadata": {
        "id": "hj40j241iad8"
      },
      "execution_count": null,
      "outputs": []
    },
    {
      "cell_type": "markdown",
      "source": [
        "## Add a new item to list after a specific item"
      ],
      "metadata": {
        "id": "t5UvObhUidcI"
      }
    },
    {
      "cell_type": "code",
      "source": [
        "list1=[10,20,[300,400,[5000,6000],500],30,40]"
      ],
      "metadata": {
        "id": "fY4ziDEgik61"
      },
      "execution_count": 5,
      "outputs": []
    },
    {
      "cell_type": "code",
      "source": [
        "list1[2][2].append(7000)\n",
        "list1"
      ],
      "metadata": {
        "colab": {
          "base_uri": "https://localhost:8080/"
        },
        "id": "IAoQVRUGiyHp",
        "outputId": "eb4fbfb1-cb31-4474-d5eb-fbfcda5f98b4"
      },
      "execution_count": 6,
      "outputs": [
        {
          "output_type": "execute_result",
          "data": {
            "text/plain": [
              "[10, 20, [300, 400, [5000, 6000, 7000], 500], 30, 40]"
            ]
          },
          "metadata": {},
          "execution_count": 6
        }
      ]
    },
    {
      "cell_type": "code",
      "source": [],
      "metadata": {
        "id": "Jiu426Q4jMKH"
      },
      "execution_count": null,
      "outputs": []
    },
    {
      "cell_type": "markdown",
      "source": [
        "## Update no of items available"
      ],
      "metadata": {
        "id": "Ps48-zNwjVla"
      }
    },
    {
      "cell_type": "code",
      "source": [
        "candy_list=[\"Jelly Belly\",\"Kit Kat\",\"Double Bubble\",\"Milky Way\",\"Three Muskeeters\"]\n",
        "no_of_items=[10,20,34,74,32]"
      ],
      "metadata": {
        "id": "-XWdQikBjal0"
      },
      "execution_count": 8,
      "outputs": []
    },
    {
      "cell_type": "code",
      "source": [
        "for i in range(len(candy_list1)):\n",
        "  print(candy_list[i],'->',no_of_items[i])"
      ],
      "metadata": {
        "colab": {
          "base_uri": "https://localhost:8080/"
        },
        "id": "iFOPmpf6kPlq",
        "outputId": "a99a87ac-ef25-4a1e-c83c-aa2faa2f19f0"
      },
      "execution_count": 9,
      "outputs": [
        {
          "output_type": "stream",
          "name": "stdout",
          "text": [
            "Jelly Belly -> 10\n",
            "Kit Kat -> 20\n",
            "Double Bubble -> 34\n",
            "Milky Way -> 74\n",
            "Three Muskeeters -> 32\n"
          ]
        }
      ]
    },
    {
      "cell_type": "code",
      "source": [],
      "metadata": {
        "id": "hforCSktknN-"
      },
      "execution_count": null,
      "outputs": []
    },
    {
      "cell_type": "markdown",
      "source": [
        "## Running Sum"
      ],
      "metadata": {
        "id": "l0CTGFpmkxyL"
      }
    },
    {
      "cell_type": "code",
      "source": [
        "list1=[1,2,3,4,5,6]\n",
        "running_sum=[]\n",
        "running_sum.append(list1[0])\n",
        "for i in range(1,len(list1)):\n",
        "  running_sum.append(list1[i]+running_sum[-1])\n",
        "\n",
        "running_sum"
      ],
      "metadata": {
        "colab": {
          "base_uri": "https://localhost:8080/"
        },
        "id": "09HYceQ7k0K-",
        "outputId": "851a50b8-46cc-4d95-ce4d-16824ae6295f"
      },
      "execution_count": 10,
      "outputs": [
        {
          "output_type": "execute_result",
          "data": {
            "text/plain": [
              "[1, 3, 6, 10, 15, 21]"
            ]
          },
          "metadata": {},
          "execution_count": 10
        }
      ]
    },
    {
      "cell_type": "code",
      "source": [],
      "metadata": {
        "id": "QWqBqeK2lwRo"
      },
      "execution_count": null,
      "outputs": []
    },
    {
      "cell_type": "markdown",
      "source": [
        "## Add all the numbers to each number which are greater than itself"
      ],
      "metadata": {
        "id": "XNMXSOLQl6Oa"
      }
    },
    {
      "cell_type": "code",
      "source": [
        "lis=[2,4,6,10,1]\n",
        "ans=[]\n",
        "for i in lis:\n",
        "  s=i\n",
        "  for j in lis:\n",
        "    s=s+(j if j>i else 0)\n",
        "  ans.append(s)\n",
        "ans"
      ],
      "metadata": {
        "colab": {
          "base_uri": "https://localhost:8080/"
        },
        "id": "fNYzfx2Tm53-",
        "outputId": "56da246d-991a-4653-9791-0d4a17c77e00"
      },
      "execution_count": 13,
      "outputs": [
        {
          "output_type": "execute_result",
          "data": {
            "text/plain": [
              "[22, 20, 16, 10, 23]"
            ]
          },
          "metadata": {},
          "execution_count": 13
        }
      ]
    },
    {
      "cell_type": "code",
      "source": [],
      "metadata": {
        "id": "I4uBvG0MnnI_"
      },
      "execution_count": null,
      "outputs": []
    },
    {
      "cell_type": "markdown",
      "source": [
        "## Common & Unique elements from given lists"
      ],
      "metadata": {
        "id": "QxzRsLIzoPkH"
      }
    },
    {
      "cell_type": "code",
      "source": [
        "num1=[23,45,67,78,89,34]\n",
        "num2=[34,89,55,56,39,67]\n",
        "\n",
        "ans=[i for i in num1 if i in num2 if num1.count(i)==num2.count(i)==1]\n",
        "ans.sort()\n",
        "ans"
      ],
      "metadata": {
        "id": "QEmIzVqooWJj",
        "outputId": "b300d1c7-eab2-41c1-d245-a7f5bd37e0a7",
        "colab": {
          "base_uri": "https://localhost:8080/"
        }
      },
      "execution_count": 18,
      "outputs": [
        {
          "output_type": "execute_result",
          "data": {
            "text/plain": [
              "[34, 67, 89]"
            ]
          },
          "metadata": {},
          "execution_count": 18
        }
      ]
    },
    {
      "cell_type": "code",
      "source": [],
      "metadata": {
        "id": "wECZXl8bo9VQ"
      },
      "execution_count": null,
      "outputs": []
    },
    {
      "cell_type": "markdown",
      "source": [
        "## Sort a list of alphanumeric strings based on product value of their numeric chars"
      ],
      "metadata": {
        "id": "JGNVvQQnqFfI"
      }
    },
    {
      "cell_type": "code",
      "source": [
        "alnum=['1ac21','23fg','456','098d','1','kls']\n",
        "\n",
        "for i in range(len(alnum)-1):\n",
        "  for j in range(len(alnum)-1-i):\n",
        "    x,y=alnum[j],alnum[j+1]\n",
        "    px,py=1,1\n",
        "    for z in x:\n",
        "      if z>='0' and z<='9':\n",
        "        px=px*(ord(z)-48)\n",
        "    for z in y:\n",
        "      if z>='0' and z<='9':\n",
        "        py=py*(ord(z)-48)\n",
        "    if px<py:\n",
        "      alnum[j],alnum[j+1]=alnum[j+1],alnum[j]\n",
        "\n",
        "\n",
        "# x,y=alnum[j]\n",
        "# px=py=1\n",
        "# px,py \n",
        "# alnum"
      ],
      "metadata": {
        "id": "uePLYD1uqS5r",
        "outputId": "995a1610-1cb8-440a-8980-bb495b722d52",
        "colab": {
          "base_uri": "https://localhost:8080/"
        }
      },
      "execution_count": 40,
      "outputs": [
        {
          "output_type": "execute_result",
          "data": {
            "text/plain": [
              "(1, 1)"
            ]
          },
          "metadata": {},
          "execution_count": 40
        }
      ]
    },
    {
      "cell_type": "markdown",
      "source": [
        "## List Comprehension for a given list"
      ],
      "metadata": {
        "id": "vgLtWWG1tbSU"
      }
    },
    {
      "cell_type": "code",
      "source": [
        "# lis=[[0,1,2],[3,4,5],[6,7,8]]\n",
        "\n",
        "[[3*i+j for j in range(3)] for i in range(3)]"
      ],
      "metadata": {
        "id": "nJEQfpl_tldr",
        "outputId": "38bc43d7-c3b9-4ccd-b01b-94cabc8a5e21",
        "colab": {
          "base_uri": "https://localhost:8080/"
        }
      },
      "execution_count": 35,
      "outputs": [
        {
          "output_type": "execute_result",
          "data": {
            "text/plain": [
              "[[0, 1, 2], [3, 4, 5], [6, 7, 8]]"
            ]
          },
          "metadata": {},
          "execution_count": 35
        }
      ]
    },
    {
      "cell_type": "markdown",
      "source": [
        "## Union of two lists"
      ],
      "metadata": {
        "id": "bsS8nKbXuFIK"
      }
    },
    {
      "cell_type": "code",
      "source": [
        "lis1=[1,2,3,4,5,1]\n",
        "lis2=[2,3,5,7,8]\n",
        "\n",
        "un=lis1.copy()\n",
        "for i in lis2:\n",
        "  if i not in lis1:\n",
        "    un.append(i)\n",
        "\n",
        "un"
      ],
      "metadata": {
        "id": "-ZNKxethuKNJ",
        "outputId": "d1c4e75d-a024-4cca-b5e4-0569b77127f3",
        "colab": {
          "base_uri": "https://localhost:8080/"
        }
      },
      "execution_count": 34,
      "outputs": [
        {
          "output_type": "execute_result",
          "data": {
            "text/plain": [
              "[1, 2, 3, 4, 5, 1, 7, 8]"
            ]
          },
          "metadata": {},
          "execution_count": 34
        }
      ]
    },
    {
      "cell_type": "markdown",
      "source": [
        "## Max number of each row"
      ],
      "metadata": {
        "id": "21GK4aQdvEAj"
      }
    },
    {
      "cell_type": "code",
      "source": [
        "lis=[[1,2,3],[4,5,6],[7,8,9]]\n",
        "[max(i) for i in lis]"
      ],
      "metadata": {
        "id": "BL95g8XOvIff",
        "outputId": "5ad7cfd1-9513-448e-d112-e1f3e2dee3bf",
        "colab": {
          "base_uri": "https://localhost:8080/"
        }
      },
      "execution_count": 33,
      "outputs": [
        {
          "output_type": "execute_result",
          "data": {
            "text/plain": [
              "[3, 6, 9]"
            ]
          },
          "metadata": {},
          "execution_count": 33
        }
      ]
    },
    {
      "cell_type": "markdown",
      "source": [
        "## Transpose of a matrix"
      ],
      "metadata": {
        "id": "eVLwe402vUvk"
      }
    },
    {
      "cell_type": "code",
      "source": [
        "mat=[[1,2,3],[4,5,6],[7,8,9]]\n",
        "\n",
        "[[mat[j][i] for j in range(len(mat[0]))] for i in range(len(mat))]"
      ],
      "metadata": {
        "id": "RA09x8JlwQ2F",
        "outputId": "48a3500d-2c63-42d3-a16a-e80c56036501",
        "colab": {
          "base_uri": "https://localhost:8080/"
        }
      },
      "execution_count": 32,
      "outputs": [
        {
          "output_type": "execute_result",
          "data": {
            "text/plain": [
              "[[1, 4, 7], [2, 5, 8], [3, 6, 9]]"
            ]
          },
          "metadata": {},
          "execution_count": 32
        }
      ]
    },
    {
      "cell_type": "markdown",
      "source": [
        "## Flatten a matrix"
      ],
      "metadata": {
        "id": "PNxy80QXw0NJ"
      }
    },
    {
      "cell_type": "code",
      "source": [
        "mat=[[1,2,3],[4,5,6],[7,8,9]]\n",
        "\n",
        "[mat[i][j] for i in range(len(mat)) for j in range(len(mat))]"
      ],
      "metadata": {
        "id": "3BmdC3TNw7c0",
        "outputId": "3f51e508-17ca-4859-e018-139d16143bad",
        "colab": {
          "base_uri": "https://localhost:8080/"
        }
      },
      "execution_count": 31,
      "outputs": [
        {
          "output_type": "execute_result",
          "data": {
            "text/plain": [
              "[1, 2, 3, 4, 5, 6, 7, 8, 9]"
            ]
          },
          "metadata": {},
          "execution_count": 31
        }
      ]
    },
    {
      "cell_type": "markdown",
      "source": [
        "## Add space between potential words"
      ],
      "metadata": {
        "id": "O64PThv9xtXT"
      }
    },
    {
      "cell_type": "code",
      "source": [
        "lis=['campusxIs','bestFor','dataScientist']\n",
        "\n",
        "for i in range(len(lis)):\n",
        "\n",
        "  for j in range(len(lis[i])):\n",
        "    if lis[i][j]>='A' and lis[i][j]<='Z':\n",
        "      lis[i]=lis[i][:j]+' '+lis[i][j:]\n",
        "      break\n",
        "                                       #OR\n",
        "                                       \n",
        "[ i[:j]+' '+i[j:] for i in lis for j in range(len(i)) if i[j]>='A' and i[j]<='Z']"
      ],
      "metadata": {
        "id": "yLvt6wMnxyYI",
        "outputId": "a7edc541-733a-45e8-c7fa-b66a76446b56",
        "colab": {
          "base_uri": "https://localhost:8080/"
        }
      },
      "execution_count": 30,
      "outputs": [
        {
          "output_type": "execute_result",
          "data": {
            "text/plain": [
              "['campusx  Is', 'best  For', 'data  Scientist']"
            ]
          },
          "metadata": {},
          "execution_count": 30
        }
      ]
    },
    {
      "cell_type": "code",
      "source": [],
      "metadata": {
        "id": "MM6LSgv30ZyM"
      },
      "execution_count": null,
      "outputs": []
    },
    {
      "cell_type": "markdown",
      "source": [
        "## Char matrix to a string "
      ],
      "metadata": {
        "id": "sTflkr7O10s1"
      }
    },
    {
      "cell_type": "code",
      "source": [
        "lis=[['c','a','m','p','u','s','x'],['i','s'],['b','e','s','t'],['c','h','a','n','n','e','l']]\n",
        "\n",
        "stri=\"\"\n",
        "for i in lis:\n",
        "  y=\"\"\n",
        "  for x in i:\n",
        "    y=y+x\n",
        "  stri=stri+y+' '\n",
        "\n",
        "stri\n"
      ],
      "metadata": {
        "id": "4pgnOJQ215xr",
        "outputId": "72610a65-1442-40af-d8f1-ef8410f51dac",
        "colab": {
          "base_uri": "https://localhost:8080/",
          "height": 36
        }
      },
      "execution_count": 29,
      "outputs": [
        {
          "output_type": "execute_result",
          "data": {
            "text/plain": [
              "'campusx is best channel '"
            ],
            "application/vnd.google.colaboratory.intrinsic+json": {
              "type": "string"
            }
          },
          "metadata": {},
          "execution_count": 29
        }
      ]
    },
    {
      "cell_type": "markdown",
      "source": [
        "## Split the strings of a list on space"
      ],
      "metadata": {
        "id": "g0irJLjF3TPK"
      }
    },
    {
      "cell_type": "code",
      "source": [
        "lis=['CampusX is a channel', 'for data-science', 'aspirants.']\n",
        "ans=[]\n",
        "\n",
        "for x in lis:\n",
        "  for y in x.split(' '):\n",
        "    ans.append(y)\n",
        "\n",
        "ans"
      ],
      "metadata": {
        "id": "lRbWKRvy3ltO",
        "outputId": "c319b09e-e069-4223-9ae8-2cf489af34d9",
        "colab": {
          "base_uri": "https://localhost:8080/"
        }
      },
      "execution_count": 24,
      "outputs": [
        {
          "output_type": "execute_result",
          "data": {
            "text/plain": [
              "['CampusX', 'is', 'a', 'channel', 'for', 'data-science', 'aspirants.']"
            ]
          },
          "metadata": {},
          "execution_count": 24
        }
      ]
    },
    {
      "cell_type": "code",
      "source": [],
      "metadata": {
        "id": "OTaASPov4lXW"
      },
      "execution_count": null,
      "outputs": []
    }
  ]
}